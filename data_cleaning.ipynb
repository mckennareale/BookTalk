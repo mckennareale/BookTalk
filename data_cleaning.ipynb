{
  "nbformat": 4,
  "nbformat_minor": 0,
  "metadata": {
    "colab": {
      "provenance": []
    },
    "kernelspec": {
      "name": "python3",
      "display_name": "Python 3"
    },
    "language_info": {
      "name": "python"
    }
  },
  "cells": [
    {
      "cell_type": "code",
      "execution_count": null,
      "metadata": {
        "colab": {
          "base_uri": "https://localhost:8080/"
        },
        "id": "iO8Zthcgzpkp",
        "outputId": "1e63e702-9e48-4a68-c06b-5dd80bcaae76"
      },
      "outputs": [
        {
          "output_type": "stream",
          "name": "stdout",
          "text": [
            "Drive already mounted at /content/drive; to attempt to forcibly remount, call drive.mount(\"/content/drive\", force_remount=True).\n"
          ]
        }
      ],
      "source": [
        "# setup\n",
        "import pandas as pd\n",
        "import string\n",
        "from google.colab import drive\n",
        "drive.mount('/content/drive')\n",
        "\n",
        "ratings_raw = pd.read_csv(\"/content/drive/MyDrive/Colab Notebooks/5500_datasets/Raw_datasets/Books_rating.csv\")\n",
        "ratings = ratings_raw[['Title', 'Id']].drop_duplicates(subset = 'Title', keep = 'first') # keep only 1 ID per title\n",
        "ratings = ratings.dropna()\n",
        "books = pd.read_csv(\"/content/drive/MyDrive/Colab Notebooks/5500_datasets/Raw_datasets/books_data.csv\")\n",
        "enrichment = pd.read_csv(\"/content/drive/MyDrive/Colab Notebooks/5500_datasets/enrichments/amazonbooks_enrichment_withratings_50k.csv\")"
      ]
    },
    {
      "cell_type": "code",
      "source": [
        "# data cleaning\n",
        "bm = books.merge(ratings[['Title', 'Id']], on='Title', how='left') # add ID info\n",
        "bm['publishedDate'] = bm['publishedDate'].str[:4] # only take year\n",
        "bm['categories'] = bm['categories'].str.strip(\"[]\").str.replace(\"'\", \"\") # get rid of quotes and brackets\n",
        "bm['categories_list'] = bm['categories'].str.split(', ') # convert to list\n",
        "bm['authors'] = bm['authors'].str.strip(\"[]\").str.replace(\"'\", \"\")\n",
        "bm['authors'] = bm['authors'].str.split(', ') # convert to list"
      ],
      "metadata": {
        "collapsed": true,
        "id": "FFRRNXmR0eMX"
      },
      "execution_count": null,
      "outputs": []
    },
    {
      "cell_type": "code",
      "source": [
        "# extract a list of unique categories\n",
        "bm['first_category'] = bm['categories_list'].apply(lambda x: x[0] if isinstance(x, list) else None)\n",
        "bm['first_category'] = bm['first_category'].str.strip(\"[]\").str.replace(\"'\", \"\")\n",
        "bm['first_category'] = bm['first_category'].str.lower()\n",
        "custom_punct = string.punctuation.replace(\"(\", \"\").replace(\")\", \"\")\n",
        "bm['first_category'] = bm['first_category'].str.rstrip(custom_punct)\n",
        "unique_categories = bm['first_category'].dropna().unique()\n",
        "with open('/content/drive/MyDrive/Colab Notebooks/5500_datasets/unique_categories.txt', 'w') as file:\n",
        "    for category in unique_categories:\n",
        "        file.write(f\"{category}\\n\")\n",
        "bm = bm.drop(columns = 'first_category')\n",
        "bm = bm.drop(columns = 'categories_list')"
      ],
      "metadata": {
        "collapsed": true,
        "id": "YuxLvqVw3-Ps"
      },
      "execution_count": null,
      "outputs": []
    },
    {
      "cell_type": "code",
      "source": [
        "# mapping table of author to book ID (accounts for >1 author/book)\n",
        "authors_mapping = bm.explode('authors', ignore_index=True)\n",
        "cols = ['Title', 'Id', 'authors']\n",
        "authors_mapping = authors_mapping[cols]\n",
        "# authors_mapping.to_csv(\"/content/drive/MyDrive/Colab Notebooks/5500_datasets/authors_mapping.csv\")\n",
        "bm = bm.drop(columns = 'authors')\n",
        "# add columns for enrichment\n",
        "bm = bm.merge(enrichment, left_on='Title', right_on = 'name', how='left')"
      ],
      "metadata": {
        "id": "MECzkz2cBHBo"
      },
      "execution_count": null,
      "outputs": []
    },
    {
      "cell_type": "code",
      "source": [
        "# save to CSV\n",
        "bm = bm.drop(columns = 'name')\n",
        "bm.to_csv(\"/content/drive/MyDrive/Colab Notebooks/5500_datasets/books_w_id.csv\", index=False)"
      ],
      "metadata": {
        "id": "7SA0V45NEWCQ"
      },
      "execution_count": null,
      "outputs": []
    },
    {
      "cell_type": "code",
      "source": [
        "# test loading back in\n",
        "test = pd.read_csv(\"/content/drive/MyDrive/Colab Notebooks/5500_datasets/books_w_id.csv\")\n",
        "print(test.head())"
      ],
      "metadata": {
        "colab": {
          "base_uri": "https://localhost:8080/"
        },
        "id": "aMBa8h6GYKff",
        "outputId": "32ed9cc0-046e-4561-8f8b-33dab3d0689f"
      },
      "execution_count": null,
      "outputs": [
        {
          "output_type": "stream",
          "name": "stdout",
          "text": [
            "                                               Title  \\\n",
            "0                     Its Only Art If Its Well Hung!   \n",
            "1                           Dr. Seuss: American Icon   \n",
            "2              Wonderful Worship in Smaller Churches   \n",
            "3                      Whispers of the Wicked Saints   \n",
            "4  Nation Dance: Religion, Identity and Cultural ...   \n",
            "\n",
            "                                         description  \\\n",
            "0                                                NaN   \n",
            "1  Philip Nel takes a fascinating look into the k...   \n",
            "2  This resource includes twelve principles in un...   \n",
            "3  Julia Thomas finds her life spinning out of co...   \n",
            "4                                                NaN   \n",
            "\n",
            "                                               image  \\\n",
            "0  http://books.google.com/books/content?id=DykPA...   \n",
            "1  http://books.google.com/books/content?id=IjvHQ...   \n",
            "2  http://books.google.com/books/content?id=2tsDA...   \n",
            "3  http://books.google.com/books/content?id=aRSIg...   \n",
            "4                                                NaN   \n",
            "\n",
            "                                         previewLink  publisher publishedDate  \\\n",
            "0  http://books.google.nl/books?id=DykPAAAACAAJ&d...        NaN          1996   \n",
            "1  http://books.google.nl/books?id=IjvHQsCn_pgC&p...  A&C Black          2005   \n",
            "2  http://books.google.nl/books?id=2tsDAAAACAAJ&d...        NaN          2000   \n",
            "3  http://books.google.nl/books?id=aRSIgJlq6JwC&d...  iUniverse          2005   \n",
            "4  http://books.google.nl/books?id=399SPgAACAAJ&d...        NaN          2003   \n",
            "\n",
            "                                            infoLink  \\\n",
            "0  http://books.google.nl/books?id=DykPAAAACAAJ&d...   \n",
            "1  http://books.google.nl/books?id=IjvHQsCn_pgC&d...   \n",
            "2  http://books.google.nl/books?id=2tsDAAAACAAJ&d...   \n",
            "3  http://books.google.nl/books?id=aRSIgJlq6JwC&d...   \n",
            "4  http://books.google.nl/books?id=399SPgAACAAJ&d...   \n",
            "\n",
            "                  categories  ratingsCount          Id authors city_set_in  \\\n",
            "0    Comics & Graphic Novels           NaN  1882931173     NaN         NaN   \n",
            "1  Biography & Autobiography           NaN  0826414346     NaN         NaN   \n",
            "2                   Religion           NaN  0829814000     NaN         NaN   \n",
            "3                    Fiction           NaN  0595344550     NaN         NaN   \n",
            "4                        NaN           NaN  0253338352     NaN         NaN   \n",
            "\n",
            "  country_set_in period_set_in film_name classification  \n",
            "0            NaN           NaN       NaN            NaN  \n",
            "1            NaN           NaN       NaN            NaN  \n",
            "2            NaN           NaN       NaN            NaN  \n",
            "3            NaN           NaN       NaN            NaN  \n",
            "4            NaN           NaN       NaN            NaN  \n"
          ]
        }
      ]
    }
  ]
}